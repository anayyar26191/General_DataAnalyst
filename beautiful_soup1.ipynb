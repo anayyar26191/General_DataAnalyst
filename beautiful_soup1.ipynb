{
  "nbformat": 4,
  "nbformat_minor": 0,
  "metadata": {
    "colab": {
      "name": "beautiful soup.ipynb",
      "provenance": [],
      "collapsed_sections": [],
      "include_colab_link": true
    },
    "kernelspec": {
      "name": "python3",
      "display_name": "Python 3"
    }
  },
  "cells": [
    {
      "cell_type": "markdown",
      "metadata": {
        "id": "view-in-github",
        "colab_type": "text"
      },
      "source": [
        "<a href=\"https://colab.research.google.com/github/anayyar26191/General_DataAnalyst/blob/master/beautiful_soup1.ipynb\" target=\"_parent\"><img src=\"https://colab.research.google.com/assets/colab-badge.svg\" alt=\"Open In Colab\"/></a>"
      ]
    },
    {
      "cell_type": "code",
      "metadata": {
        "id": "u_xmA9pF1l2W",
        "colab_type": "code",
        "outputId": "b121f040-5969-425e-dd3c-1ab00cc0e522",
        "colab": {
          "base_uri": "https://localhost:8080/",
          "height": 55
        }
      },
      "source": [
        "pip install beautifulsoup4"
      ],
      "execution_count": 1,
      "outputs": [
        {
          "output_type": "stream",
          "text": [
            "Requirement already satisfied: beautifulsoup4 in /usr/local/lib/python3.6/dist-packages (4.6.3)\n"
          ],
          "name": "stdout"
        }
      ]
    },
    {
      "cell_type": "code",
      "metadata": {
        "id": "nkUZTgoV10b-",
        "colab_type": "code",
        "outputId": "0b384f78-7a30-41ec-e83f-4c9debb04826",
        "colab": {
          "base_uri": "https://localhost:8080/",
          "height": 55
        }
      },
      "source": [
        "pip install lxml"
      ],
      "execution_count": 2,
      "outputs": [
        {
          "output_type": "stream",
          "text": [
            "Requirement already satisfied: lxml in /usr/local/lib/python3.6/dist-packages (4.2.6)\n"
          ],
          "name": "stdout"
        }
      ]
    },
    {
      "cell_type": "code",
      "metadata": {
        "id": "xe7lmEeJ29ts",
        "colab_type": "code",
        "colab": {}
      },
      "source": [
        "from urllib.request import urlopen as uReq\n",
        "from bs4 import BeautifulSoup as soup\n",
        "import urllib\n",
        "import re"
      ],
      "execution_count": 0,
      "outputs": []
    },
    {
      "cell_type": "code",
      "metadata": {
        "id": "HdatG3WA3J5U",
        "colab_type": "code",
        "colab": {}
      },
      "source": [
        "from bs4 import BeautifulSoup"
      ],
      "execution_count": 0,
      "outputs": []
    },
    {
      "cell_type": "code",
      "metadata": {
        "id": "zFqCFfB_4Pk8",
        "colab_type": "code",
        "colab": {}
      },
      "source": [
        "import requests"
      ],
      "execution_count": 0,
      "outputs": []
    },
    {
      "cell_type": "code",
      "metadata": {
        "id": "fGryDvH24seY",
        "colab_type": "code",
        "colab": {}
      },
      "source": [
        "urllib.request.urlopen('http://help.websiteos.com/websiteos/example_of_a_simple_html_page.htm')\n",
        "#soup = BeautifulSoup('http://help.websiteos.com/websiteos/example_of_a_simple_html_page.htm')\n",
        "scraped_data = urllib.request.urlopen('http://help.websiteos.com/websiteos/example_of_a_simple_html_page.htm')\n",
        "article = scraped_data.read()\n",
        "soup = BeautifulSoup(article, \"html.parser\")\n",
        "#article = soup.read()\n",
        "print(soup)"
      ],
      "execution_count": 0,
      "outputs": []
    },
    {
      "cell_type": "code",
      "metadata": {
        "id": "hnMzhCNPLtbl",
        "colab_type": "code",
        "colab": {}
      },
      "source": [
        "body=soup.body()\n",
        "print(body)\n"
      ],
      "execution_count": 0,
      "outputs": []
    },
    {
      "cell_type": "code",
      "metadata": {
        "id": "KIfd3oYB-ZMb",
        "colab_type": "code",
        "colab": {}
      },
      "source": [
        "http://help.websiteos.com/websiteos/example_of_a_simple_html_page.htm"
      ],
      "execution_count": 0,
      "outputs": []
    },
    {
      "cell_type": "code",
      "metadata": {
        "id": "jqAMRYvJ4Z-h",
        "colab_type": "code",
        "colab": {}
      },
      "source": [
        "paragraph=soup.find_all('p')\n",
        "print(paragraph)\n",
        "print(soup.prettify())"
      ],
      "execution_count": 0,
      "outputs": []
    },
    {
      "cell_type": "code",
      "metadata": {
        "id": "0LdfTKgZNgPW",
        "colab_type": "code",
        "colab": {}
      },
      "source": [
        "links=soup.find_all('script')\n",
        "for link in links:\n",
        "  print(link)"
      ],
      "execution_count": 0,
      "outputs": []
    }
  ]
}